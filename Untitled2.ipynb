{
 "cells": [
  {
   "cell_type": "code",
   "execution_count": 272,
   "metadata": {},
   "outputs": [
    {
     "name": "stdout",
     "output_type": "stream",
     "text": [
      "Filename: Word.txt\n"
     ]
    }
   ],
   "source": [
    "filename=input(\"Filename: \")\n",
    "with open (filename) as myfile:\n",
    "    data=myfile.read()"
   ]
  },
  {
   "cell_type": "code",
   "execution_count": 371,
   "metadata": {},
   "outputs": [],
   "source": [
    "reader=[]\n",
    "symbols=[]\n",
    "for letter in data:\n",
    "    if letter not in reader:\n",
    "        freq=data.count(letter)\n",
    "        reader.append(freq)\n",
    "        reader.append(letter)\n",
    "        symbols.append(letter)"
   ]
  },
  {
   "cell_type": "code",
   "execution_count": 372,
   "metadata": {},
   "outputs": [],
   "source": [
    "nodes=[]\n",
    "while len(reader)>0:\n",
    "    nodes.append(reader[0:2])\n",
    "    reader=reader[2:]\n",
    "nodes.sort()\n",
    "huffman_tree=[]\n",
    "huffman_tree.append(nodes)"
   ]
  },
  {
   "cell_type": "code",
   "execution_count": 373,
   "metadata": {},
   "outputs": [
    {
     "name": "stdout",
     "output_type": "stream",
     "text": [
      "[[2, 'v'], [3, 'a'], [3, 's']]\n"
     ]
    }
   ],
   "source": [
    "print(huffman_tree[0])"
   ]
  },
  {
   "cell_type": "code",
   "execution_count": 374,
   "metadata": {},
   "outputs": [],
   "source": [
    "def combine(nodes) :\n",
    "    pos=0\n",
    "    newnode=[]\n",
    "    if len(nodes)>1:\n",
    "        nodes.sort()\n",
    "        nodes[pos].append(\"0\")\n",
    "        nodes[pos+1].append(\"1\")\n",
    "        node1=(nodes[pos][0]+nodes[pos+1][0])\n",
    "        node2=(nodes[pos][1]+nodes[pos+1][1])\n",
    "        newnode.append(node1)\n",
    "        newnode.append(node2)\n",
    "        newnodes=[]\n",
    "        newnodes.append(newnode)\n",
    "        newnodes=newnodes+nodes[2:]\n",
    "        nodes=newnodes\n",
    "        huffman_tree.append(nodes)\n",
    "        combine(nodes)\n",
    "    return huffman_tree"
   ]
  },
  {
   "cell_type": "code",
   "execution_count": 375,
   "metadata": {},
   "outputs": [],
   "source": [
    "    newnodes=combine(nodes)"
   ]
  },
  {
   "cell_type": "code",
   "execution_count": 376,
   "metadata": {},
   "outputs": [
    {
     "data": {
      "text/plain": [
       "[[[2, 'v', '0'], [3, 'a', '1'], [3, 's', '0']],\n",
       " [[3, 's', '0'], [5, 'va', '1']],\n",
       " [[8, 'sva']]]"
      ]
     },
     "execution_count": 376,
     "metadata": {},
     "output_type": "execute_result"
    }
   ],
   "source": [
    "newnodes"
   ]
  },
  {
   "cell_type": "code",
   "execution_count": 377,
   "metadata": {},
   "outputs": [
    {
     "name": "stdout",
     "output_type": "stream",
     "text": [
      "Step 0 : [[2, 'v', '0'], [3, 'a', '1'], [3, 's', '0']]\n",
      "Step 1 : [[3, 's', '0'], [5, 'va', '1']]\n",
      "Step 2 : [[8, 'sva']]\n"
     ]
    }
   ],
   "source": [
    "checklist=[]\n",
    "for level in huffman_tree:\n",
    "    for node in level:\n",
    "        if node not in checklist:\n",
    "            checklist.append(node)\n",
    "count=0\n",
    "for level in huffman_tree:\n",
    "    print (\"Step\",count,\":\",level)\n",
    "    count+=1"
   ]
  },
  {
   "cell_type": "code",
   "execution_count": 378,
   "metadata": {},
   "outputs": [
    {
     "data": {
      "text/plain": [
       "[[2, 'v', '0'], [3, 'a', '1'], [3, 's', '0'], [5, 'va', '1'], [8, 'sva']]"
      ]
     },
     "execution_count": 378,
     "metadata": {},
     "output_type": "execute_result"
    }
   ],
   "source": [
    "checklist"
   ]
  },
  {
   "cell_type": "code",
   "execution_count": 379,
   "metadata": {},
   "outputs": [],
   "source": [
    "letter_binary=[]\n",
    "if len(symbols)==1:\n",
    "    letter_code=[symbols[0],\"0\"]\n",
    "    letter_binary.append(letter_code*len(my_string))\n",
    "else:\n",
    "    for letter in symbols:\n",
    "        lettercode=\"\"\n",
    "        for node in checklist:\n",
    "            if len(node)>2 and letter in node[1]:\n",
    "                lettercode=lettercode+node[2]\n",
    "            letter_code=[letter,lettercode]\n",
    "            letter_binary.append(letter_code)"
   ]
  },
  {
   "cell_type": "code",
   "execution_count": 380,
   "metadata": {},
   "outputs": [
    {
     "name": "stdout",
     "output_type": "stream",
     "text": [
      "s \n",
      "s \n",
      "s 0\n",
      "s 0\n",
      "s 0\n",
      "a \n",
      "a 1\n",
      "a 1\n",
      "a 11\n",
      "a 11\n",
      "v 0\n",
      "v 0\n",
      "v 0\n",
      "v 01\n",
      "v 01\n"
     ]
    }
   ],
   "source": [
    "for letter in letter_binary:\n",
    "    print(letter[0],letter[1])"
   ]
  },
  {
   "cell_type": "code",
   "execution_count": 405,
   "metadata": {},
   "outputs": [
    {
     "name": "stdout",
     "output_type": "stream",
     "text": [
      "s 0\n",
      "a 11\n",
      "v 01\n"
     ]
    }
   ],
   "source": [
    "encode=[]\n",
    "prev=[]\n",
    "prevlet=\"\"\n",
    "prevint=-1\n",
    "for letter in letter_binary:\n",
    "    if prevlet!=\"\" and prevlet!=letter[0]:\n",
    "        print(prevlet,prevint)\n",
    "        newlist=[prevlet,prevint]\n",
    "        encode.append(newlist)\n",
    "        prev.append(prevint)\n",
    "    prevlet = letter[0]\n",
    "    prevint = letter[1]\n",
    "print(prevlet,prevint)\n",
    "newlist=[prevlet,prevint]\n",
    "encode.append(newlist)\n",
    "prev.append(prevint)"
   ]
  },
  {
   "cell_type": "code",
   "execution_count": 416,
   "metadata": {},
   "outputs": [
    {
     "data": {
      "text/plain": [
       "[['s', '0'], ['a', '11'], ['v', '01']]"
      ]
     },
     "execution_count": 416,
     "metadata": {},
     "output_type": "execute_result"
    }
   ],
   "source": [
    "encode"
   ]
  },
  {
   "cell_type": "code",
   "execution_count": 417,
   "metadata": {},
   "outputs": [],
   "source": [
    "bits=\"\"\n",
    "for char in data:\n",
    "    for item in encode:\n",
    "        if char in item:\n",
    "            bits=bits+item[1]"
   ]
  },
  {
   "cell_type": "code",
   "execution_count": 418,
   "metadata": {},
   "outputs": [
    {
     "data": {
      "text/plain": [
       "'0001111110101'"
      ]
     },
     "execution_count": 418,
     "metadata": {},
     "output_type": "execute_result"
    }
   ],
   "source": [
    "bits"
   ]
  },
  {
   "cell_type": "code",
   "execution_count": 427,
   "metadata": {},
   "outputs": [
    {
     "name": "stdout",
     "output_type": "stream",
     "text": [
      "0\n",
      "11\n",
      "01\n"
     ]
    }
   ],
   "source": [
    "for letter in encode:\n",
    "    print(letter[1])"
   ]
  },
  {
   "cell_type": "code",
   "execution_count": 419,
   "metadata": {},
   "outputs": [],
   "source": [
    "uncompres=\"\"\n",
    "code=''"
   ]
  },
  {
   "cell_type": "code",
   "execution_count": 420,
   "metadata": {},
   "outputs": [
    {
     "data": {
      "text/plain": [
       "'0001111110101'"
      ]
     },
     "execution_count": 420,
     "metadata": {},
     "output_type": "execute_result"
    }
   ],
   "source": [
    "bits"
   ]
  },
  {
   "cell_type": "code",
   "execution_count": 421,
   "metadata": {},
   "outputs": [
    {
     "data": {
      "text/plain": [
       "['0', '11', '01']"
      ]
     },
     "execution_count": 421,
     "metadata": {},
     "output_type": "execute_result"
    }
   ],
   "source": [
    "prev"
   ]
  },
  {
   "cell_type": "code",
   "execution_count": 425,
   "metadata": {},
   "outputs": [],
   "source": [
    "for digit in bits:\n",
    "    code=code+digit\n",
    "    pos=0\n",
    "    for letter in encode:\n",
    "        if code==letter[1]:\n",
    "            uncompres=uncompres+encode[pos][0]\n",
    "            code=\"\"\n",
    "        pos+=1"
   ]
  },
  {
   "cell_type": "code",
   "execution_count": 428,
   "metadata": {},
   "outputs": [],
   "source": [
    "with open(\"output.txt\", \"a\") as f:\n",
    "    print(\"Decompression txt: {}\\n\".format(uncompres), file=f)"
   ]
  },
  {
   "cell_type": "code",
   "execution_count": null,
   "metadata": {},
   "outputs": [],
   "source": []
  }
 ],
 "metadata": {
  "kernelspec": {
   "display_name": "Python 3",
   "language": "python",
   "name": "python3"
  },
  "language_info": {
   "codemirror_mode": {
    "name": "ipython",
    "version": 3
   },
   "file_extension": ".py",
   "mimetype": "text/x-python",
   "name": "python",
   "nbconvert_exporter": "python",
   "pygments_lexer": "ipython3",
   "version": "3.8.3"
  }
 },
 "nbformat": 4,
 "nbformat_minor": 4
}
